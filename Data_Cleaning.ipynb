{
 "cells": [
  {
   "cell_type": "code",
   "execution_count": 1,
   "id": "initial_id",
   "metadata": {
    "collapsed": true,
    "ExecuteTime": {
     "end_time": "2024-03-24T11:53:57.568311Z",
     "start_time": "2024-03-24T11:53:57.228471Z"
    }
   },
   "outputs": [],
   "source": [
    "import pandas as pd"
   ]
  },
  {
   "cell_type": "code",
   "execution_count": 2,
   "outputs": [],
   "source": [
    "data = pd.read_excel(r\"Customer Call List.xlsx\")"
   ],
   "metadata": {
    "collapsed": false,
    "ExecuteTime": {
     "end_time": "2024-03-24T11:53:58.123127Z",
     "start_time": "2024-03-24T11:53:58.014399Z"
    }
   },
   "id": "b2dcbfb23466474c"
  },
  {
   "cell_type": "code",
   "execution_count": 3,
   "outputs": [
    {
     "data": {
      "text/plain": "    CustomerID First_Name    Last_Name  Phone_Number  \\\n0         1001      Frodo      Baggins  123-545-5421   \n1         1002       Abed        Nadir  123/643/9775   \n2         1003     Walter       /White    7066950392   \n3         1004     Dwight      Schrute  123-543-2345   \n4         1005        Jon         Snow  876|678|3469   \n5         1006        Ron      Swanson  304-762-2467   \n6         1007       Jeff       Winger           NaN   \n7         1008   Sherlock       Holmes  876|678|3469   \n8         1009    Gandalf          NaN           N/a   \n9         1010      Peter       Parker  123-545-5421   \n10        1011    Samwise       Gamgee           NaN   \n11        1012      Harry    ...Potter    7066950392   \n12        1013        Don       Draper  123-543-2345   \n13        1014     Leslie        Knope  876|678|3469   \n14        1015       Toby  Flenderson_  304-762-2467   \n15        1016        Ron      Weasley  123-545-5421   \n16        1017   Michael         Scott  123/643/9775   \n17        1018      Clark         Kent    7066950392   \n18        1019      Creed       Braton           N/a   \n19        1020     Anakin    Skywalker  876|678|3469   \n20        1020     Anakin    Skywalker  876|678|3469   \n\n                                  Address Paying Customer Do_Not_Contact  \\\n0                   123 Shire Lane, Shire             Yes             No   \n1                     93 West Main Street              No            Yes   \n2                      298 Drugs Driveway               N            NaN   \n3   980 Paper Avenue, Pennsylvania, 18503             Yes              Y   \n4                        123 Dragons Road               Y             No   \n5                        768 City Parkway             Yes            Yes   \n6                       1209 South Street              No             No   \n7                           98 Clue Drive               N             No   \n8                        123 Middle Earth             Yes            NaN   \n9              25th Main Street, New York             Yes             No   \n10                  612 Shire Lane, Shire             Yes             No   \n11                   2394 Hogwarts Avenue               Y            NaN   \n12                       2039 Main Street             Yes              N   \n13                       343 City Parkway             Yes             No   \n14                          214 HR Avenue               N             No   \n15                   2395 Hogwarts Avenue              No              N   \n16         121 Paper Avenue, Pennsylvania             Yes             No   \n17                        3498 Super Lane               Y            NaN   \n18                                    N/a             N/a            Yes   \n19            910 Tatooine Road, Tatooine             Yes              N   \n20            910 Tatooine Road, Tatooine             Yes              N   \n\n    Not_Useful_Column  \n0                True  \n1               False  \n2                True  \n3                True  \n4                True  \n5                True  \n6               False  \n7               False  \n8               False  \n9                True  \n10               True  \n11               True  \n12              False  \n13              False  \n14              False  \n15              False  \n16              False  \n17               True  \n18               True  \n19               True  \n20               True  ",
      "text/html": "<div>\n<style scoped>\n    .dataframe tbody tr th:only-of-type {\n        vertical-align: middle;\n    }\n\n    .dataframe tbody tr th {\n        vertical-align: top;\n    }\n\n    .dataframe thead th {\n        text-align: right;\n    }\n</style>\n<table border=\"1\" class=\"dataframe\">\n  <thead>\n    <tr style=\"text-align: right;\">\n      <th></th>\n      <th>CustomerID</th>\n      <th>First_Name</th>\n      <th>Last_Name</th>\n      <th>Phone_Number</th>\n      <th>Address</th>\n      <th>Paying Customer</th>\n      <th>Do_Not_Contact</th>\n      <th>Not_Useful_Column</th>\n    </tr>\n  </thead>\n  <tbody>\n    <tr>\n      <th>0</th>\n      <td>1001</td>\n      <td>Frodo</td>\n      <td>Baggins</td>\n      <td>123-545-5421</td>\n      <td>123 Shire Lane, Shire</td>\n      <td>Yes</td>\n      <td>No</td>\n      <td>True</td>\n    </tr>\n    <tr>\n      <th>1</th>\n      <td>1002</td>\n      <td>Abed</td>\n      <td>Nadir</td>\n      <td>123/643/9775</td>\n      <td>93 West Main Street</td>\n      <td>No</td>\n      <td>Yes</td>\n      <td>False</td>\n    </tr>\n    <tr>\n      <th>2</th>\n      <td>1003</td>\n      <td>Walter</td>\n      <td>/White</td>\n      <td>7066950392</td>\n      <td>298 Drugs Driveway</td>\n      <td>N</td>\n      <td>NaN</td>\n      <td>True</td>\n    </tr>\n    <tr>\n      <th>3</th>\n      <td>1004</td>\n      <td>Dwight</td>\n      <td>Schrute</td>\n      <td>123-543-2345</td>\n      <td>980 Paper Avenue, Pennsylvania, 18503</td>\n      <td>Yes</td>\n      <td>Y</td>\n      <td>True</td>\n    </tr>\n    <tr>\n      <th>4</th>\n      <td>1005</td>\n      <td>Jon</td>\n      <td>Snow</td>\n      <td>876|678|3469</td>\n      <td>123 Dragons Road</td>\n      <td>Y</td>\n      <td>No</td>\n      <td>True</td>\n    </tr>\n    <tr>\n      <th>5</th>\n      <td>1006</td>\n      <td>Ron</td>\n      <td>Swanson</td>\n      <td>304-762-2467</td>\n      <td>768 City Parkway</td>\n      <td>Yes</td>\n      <td>Yes</td>\n      <td>True</td>\n    </tr>\n    <tr>\n      <th>6</th>\n      <td>1007</td>\n      <td>Jeff</td>\n      <td>Winger</td>\n      <td>NaN</td>\n      <td>1209 South Street</td>\n      <td>No</td>\n      <td>No</td>\n      <td>False</td>\n    </tr>\n    <tr>\n      <th>7</th>\n      <td>1008</td>\n      <td>Sherlock</td>\n      <td>Holmes</td>\n      <td>876|678|3469</td>\n      <td>98 Clue Drive</td>\n      <td>N</td>\n      <td>No</td>\n      <td>False</td>\n    </tr>\n    <tr>\n      <th>8</th>\n      <td>1009</td>\n      <td>Gandalf</td>\n      <td>NaN</td>\n      <td>N/a</td>\n      <td>123 Middle Earth</td>\n      <td>Yes</td>\n      <td>NaN</td>\n      <td>False</td>\n    </tr>\n    <tr>\n      <th>9</th>\n      <td>1010</td>\n      <td>Peter</td>\n      <td>Parker</td>\n      <td>123-545-5421</td>\n      <td>25th Main Street, New York</td>\n      <td>Yes</td>\n      <td>No</td>\n      <td>True</td>\n    </tr>\n    <tr>\n      <th>10</th>\n      <td>1011</td>\n      <td>Samwise</td>\n      <td>Gamgee</td>\n      <td>NaN</td>\n      <td>612 Shire Lane, Shire</td>\n      <td>Yes</td>\n      <td>No</td>\n      <td>True</td>\n    </tr>\n    <tr>\n      <th>11</th>\n      <td>1012</td>\n      <td>Harry</td>\n      <td>...Potter</td>\n      <td>7066950392</td>\n      <td>2394 Hogwarts Avenue</td>\n      <td>Y</td>\n      <td>NaN</td>\n      <td>True</td>\n    </tr>\n    <tr>\n      <th>12</th>\n      <td>1013</td>\n      <td>Don</td>\n      <td>Draper</td>\n      <td>123-543-2345</td>\n      <td>2039 Main Street</td>\n      <td>Yes</td>\n      <td>N</td>\n      <td>False</td>\n    </tr>\n    <tr>\n      <th>13</th>\n      <td>1014</td>\n      <td>Leslie</td>\n      <td>Knope</td>\n      <td>876|678|3469</td>\n      <td>343 City Parkway</td>\n      <td>Yes</td>\n      <td>No</td>\n      <td>False</td>\n    </tr>\n    <tr>\n      <th>14</th>\n      <td>1015</td>\n      <td>Toby</td>\n      <td>Flenderson_</td>\n      <td>304-762-2467</td>\n      <td>214 HR Avenue</td>\n      <td>N</td>\n      <td>No</td>\n      <td>False</td>\n    </tr>\n    <tr>\n      <th>15</th>\n      <td>1016</td>\n      <td>Ron</td>\n      <td>Weasley</td>\n      <td>123-545-5421</td>\n      <td>2395 Hogwarts Avenue</td>\n      <td>No</td>\n      <td>N</td>\n      <td>False</td>\n    </tr>\n    <tr>\n      <th>16</th>\n      <td>1017</td>\n      <td>Michael</td>\n      <td>Scott</td>\n      <td>123/643/9775</td>\n      <td>121 Paper Avenue, Pennsylvania</td>\n      <td>Yes</td>\n      <td>No</td>\n      <td>False</td>\n    </tr>\n    <tr>\n      <th>17</th>\n      <td>1018</td>\n      <td>Clark</td>\n      <td>Kent</td>\n      <td>7066950392</td>\n      <td>3498 Super Lane</td>\n      <td>Y</td>\n      <td>NaN</td>\n      <td>True</td>\n    </tr>\n    <tr>\n      <th>18</th>\n      <td>1019</td>\n      <td>Creed</td>\n      <td>Braton</td>\n      <td>N/a</td>\n      <td>N/a</td>\n      <td>N/a</td>\n      <td>Yes</td>\n      <td>True</td>\n    </tr>\n    <tr>\n      <th>19</th>\n      <td>1020</td>\n      <td>Anakin</td>\n      <td>Skywalker</td>\n      <td>876|678|3469</td>\n      <td>910 Tatooine Road, Tatooine</td>\n      <td>Yes</td>\n      <td>N</td>\n      <td>True</td>\n    </tr>\n    <tr>\n      <th>20</th>\n      <td>1020</td>\n      <td>Anakin</td>\n      <td>Skywalker</td>\n      <td>876|678|3469</td>\n      <td>910 Tatooine Road, Tatooine</td>\n      <td>Yes</td>\n      <td>N</td>\n      <td>True</td>\n    </tr>\n  </tbody>\n</table>\n</div>"
     },
     "execution_count": 3,
     "metadata": {},
     "output_type": "execute_result"
    }
   ],
   "source": [
    "data"
   ],
   "metadata": {
    "collapsed": false,
    "ExecuteTime": {
     "end_time": "2024-03-24T11:53:58.222475Z",
     "start_time": "2024-03-24T11:53:58.212964Z"
    }
   },
   "id": "a989a424d7dca525"
  },
  {
   "cell_type": "code",
   "execution_count": 4,
   "outputs": [
    {
     "data": {
      "text/plain": "    CustomerID First_Name    Last_Name  Phone_Number  \\\n0         1001      Frodo      Baggins  123-545-5421   \n1         1002       Abed        Nadir  123/643/9775   \n2         1003     Walter       /White    7066950392   \n3         1004     Dwight      Schrute  123-543-2345   \n4         1005        Jon         Snow  876|678|3469   \n5         1006        Ron      Swanson  304-762-2467   \n6         1007       Jeff       Winger           NaN   \n7         1008   Sherlock       Holmes  876|678|3469   \n8         1009    Gandalf          NaN           N/a   \n9         1010      Peter       Parker  123-545-5421   \n10        1011    Samwise       Gamgee           NaN   \n11        1012      Harry    ...Potter    7066950392   \n12        1013        Don       Draper  123-543-2345   \n13        1014     Leslie        Knope  876|678|3469   \n14        1015       Toby  Flenderson_  304-762-2467   \n15        1016        Ron      Weasley  123-545-5421   \n16        1017   Michael         Scott  123/643/9775   \n17        1018      Clark         Kent    7066950392   \n18        1019      Creed       Braton           N/a   \n19        1020     Anakin    Skywalker  876|678|3469   \n\n                                  Address Paying Customer Do_Not_Contact  \\\n0                   123 Shire Lane, Shire             Yes             No   \n1                     93 West Main Street              No            Yes   \n2                      298 Drugs Driveway               N            NaN   \n3   980 Paper Avenue, Pennsylvania, 18503             Yes              Y   \n4                        123 Dragons Road               Y             No   \n5                        768 City Parkway             Yes            Yes   \n6                       1209 South Street              No             No   \n7                           98 Clue Drive               N             No   \n8                        123 Middle Earth             Yes            NaN   \n9              25th Main Street, New York             Yes             No   \n10                  612 Shire Lane, Shire             Yes             No   \n11                   2394 Hogwarts Avenue               Y            NaN   \n12                       2039 Main Street             Yes              N   \n13                       343 City Parkway             Yes             No   \n14                          214 HR Avenue               N             No   \n15                   2395 Hogwarts Avenue              No              N   \n16         121 Paper Avenue, Pennsylvania             Yes             No   \n17                        3498 Super Lane               Y            NaN   \n18                                    N/a             N/a            Yes   \n19            910 Tatooine Road, Tatooine             Yes              N   \n\n    Not_Useful_Column  \n0                True  \n1               False  \n2                True  \n3                True  \n4                True  \n5                True  \n6               False  \n7               False  \n8               False  \n9                True  \n10               True  \n11               True  \n12              False  \n13              False  \n14              False  \n15              False  \n16              False  \n17               True  \n18               True  \n19               True  ",
      "text/html": "<div>\n<style scoped>\n    .dataframe tbody tr th:only-of-type {\n        vertical-align: middle;\n    }\n\n    .dataframe tbody tr th {\n        vertical-align: top;\n    }\n\n    .dataframe thead th {\n        text-align: right;\n    }\n</style>\n<table border=\"1\" class=\"dataframe\">\n  <thead>\n    <tr style=\"text-align: right;\">\n      <th></th>\n      <th>CustomerID</th>\n      <th>First_Name</th>\n      <th>Last_Name</th>\n      <th>Phone_Number</th>\n      <th>Address</th>\n      <th>Paying Customer</th>\n      <th>Do_Not_Contact</th>\n      <th>Not_Useful_Column</th>\n    </tr>\n  </thead>\n  <tbody>\n    <tr>\n      <th>0</th>\n      <td>1001</td>\n      <td>Frodo</td>\n      <td>Baggins</td>\n      <td>123-545-5421</td>\n      <td>123 Shire Lane, Shire</td>\n      <td>Yes</td>\n      <td>No</td>\n      <td>True</td>\n    </tr>\n    <tr>\n      <th>1</th>\n      <td>1002</td>\n      <td>Abed</td>\n      <td>Nadir</td>\n      <td>123/643/9775</td>\n      <td>93 West Main Street</td>\n      <td>No</td>\n      <td>Yes</td>\n      <td>False</td>\n    </tr>\n    <tr>\n      <th>2</th>\n      <td>1003</td>\n      <td>Walter</td>\n      <td>/White</td>\n      <td>7066950392</td>\n      <td>298 Drugs Driveway</td>\n      <td>N</td>\n      <td>NaN</td>\n      <td>True</td>\n    </tr>\n    <tr>\n      <th>3</th>\n      <td>1004</td>\n      <td>Dwight</td>\n      <td>Schrute</td>\n      <td>123-543-2345</td>\n      <td>980 Paper Avenue, Pennsylvania, 18503</td>\n      <td>Yes</td>\n      <td>Y</td>\n      <td>True</td>\n    </tr>\n    <tr>\n      <th>4</th>\n      <td>1005</td>\n      <td>Jon</td>\n      <td>Snow</td>\n      <td>876|678|3469</td>\n      <td>123 Dragons Road</td>\n      <td>Y</td>\n      <td>No</td>\n      <td>True</td>\n    </tr>\n    <tr>\n      <th>5</th>\n      <td>1006</td>\n      <td>Ron</td>\n      <td>Swanson</td>\n      <td>304-762-2467</td>\n      <td>768 City Parkway</td>\n      <td>Yes</td>\n      <td>Yes</td>\n      <td>True</td>\n    </tr>\n    <tr>\n      <th>6</th>\n      <td>1007</td>\n      <td>Jeff</td>\n      <td>Winger</td>\n      <td>NaN</td>\n      <td>1209 South Street</td>\n      <td>No</td>\n      <td>No</td>\n      <td>False</td>\n    </tr>\n    <tr>\n      <th>7</th>\n      <td>1008</td>\n      <td>Sherlock</td>\n      <td>Holmes</td>\n      <td>876|678|3469</td>\n      <td>98 Clue Drive</td>\n      <td>N</td>\n      <td>No</td>\n      <td>False</td>\n    </tr>\n    <tr>\n      <th>8</th>\n      <td>1009</td>\n      <td>Gandalf</td>\n      <td>NaN</td>\n      <td>N/a</td>\n      <td>123 Middle Earth</td>\n      <td>Yes</td>\n      <td>NaN</td>\n      <td>False</td>\n    </tr>\n    <tr>\n      <th>9</th>\n      <td>1010</td>\n      <td>Peter</td>\n      <td>Parker</td>\n      <td>123-545-5421</td>\n      <td>25th Main Street, New York</td>\n      <td>Yes</td>\n      <td>No</td>\n      <td>True</td>\n    </tr>\n    <tr>\n      <th>10</th>\n      <td>1011</td>\n      <td>Samwise</td>\n      <td>Gamgee</td>\n      <td>NaN</td>\n      <td>612 Shire Lane, Shire</td>\n      <td>Yes</td>\n      <td>No</td>\n      <td>True</td>\n    </tr>\n    <tr>\n      <th>11</th>\n      <td>1012</td>\n      <td>Harry</td>\n      <td>...Potter</td>\n      <td>7066950392</td>\n      <td>2394 Hogwarts Avenue</td>\n      <td>Y</td>\n      <td>NaN</td>\n      <td>True</td>\n    </tr>\n    <tr>\n      <th>12</th>\n      <td>1013</td>\n      <td>Don</td>\n      <td>Draper</td>\n      <td>123-543-2345</td>\n      <td>2039 Main Street</td>\n      <td>Yes</td>\n      <td>N</td>\n      <td>False</td>\n    </tr>\n    <tr>\n      <th>13</th>\n      <td>1014</td>\n      <td>Leslie</td>\n      <td>Knope</td>\n      <td>876|678|3469</td>\n      <td>343 City Parkway</td>\n      <td>Yes</td>\n      <td>No</td>\n      <td>False</td>\n    </tr>\n    <tr>\n      <th>14</th>\n      <td>1015</td>\n      <td>Toby</td>\n      <td>Flenderson_</td>\n      <td>304-762-2467</td>\n      <td>214 HR Avenue</td>\n      <td>N</td>\n      <td>No</td>\n      <td>False</td>\n    </tr>\n    <tr>\n      <th>15</th>\n      <td>1016</td>\n      <td>Ron</td>\n      <td>Weasley</td>\n      <td>123-545-5421</td>\n      <td>2395 Hogwarts Avenue</td>\n      <td>No</td>\n      <td>N</td>\n      <td>False</td>\n    </tr>\n    <tr>\n      <th>16</th>\n      <td>1017</td>\n      <td>Michael</td>\n      <td>Scott</td>\n      <td>123/643/9775</td>\n      <td>121 Paper Avenue, Pennsylvania</td>\n      <td>Yes</td>\n      <td>No</td>\n      <td>False</td>\n    </tr>\n    <tr>\n      <th>17</th>\n      <td>1018</td>\n      <td>Clark</td>\n      <td>Kent</td>\n      <td>7066950392</td>\n      <td>3498 Super Lane</td>\n      <td>Y</td>\n      <td>NaN</td>\n      <td>True</td>\n    </tr>\n    <tr>\n      <th>18</th>\n      <td>1019</td>\n      <td>Creed</td>\n      <td>Braton</td>\n      <td>N/a</td>\n      <td>N/a</td>\n      <td>N/a</td>\n      <td>Yes</td>\n      <td>True</td>\n    </tr>\n    <tr>\n      <th>19</th>\n      <td>1020</td>\n      <td>Anakin</td>\n      <td>Skywalker</td>\n      <td>876|678|3469</td>\n      <td>910 Tatooine Road, Tatooine</td>\n      <td>Yes</td>\n      <td>N</td>\n      <td>True</td>\n    </tr>\n  </tbody>\n</table>\n</div>"
     },
     "execution_count": 4,
     "metadata": {},
     "output_type": "execute_result"
    }
   ],
   "source": [
    "data = data.drop_duplicates()\n",
    "data"
   ],
   "metadata": {
    "collapsed": false,
    "ExecuteTime": {
     "end_time": "2024-03-24T11:53:58.384669Z",
     "start_time": "2024-03-24T11:53:58.368898Z"
    }
   },
   "id": "1b68b2b258c040b9"
  },
  {
   "cell_type": "code",
   "execution_count": 5,
   "outputs": [
    {
     "data": {
      "text/plain": "    CustomerID First_Name    Last_Name  Phone_Number  \\\n0         1001      Frodo      Baggins  123-545-5421   \n1         1002       Abed        Nadir  123/643/9775   \n2         1003     Walter       /White    7066950392   \n3         1004     Dwight      Schrute  123-543-2345   \n4         1005        Jon         Snow  876|678|3469   \n5         1006        Ron      Swanson  304-762-2467   \n6         1007       Jeff       Winger           NaN   \n7         1008   Sherlock       Holmes  876|678|3469   \n8         1009    Gandalf          NaN           N/a   \n9         1010      Peter       Parker  123-545-5421   \n10        1011    Samwise       Gamgee           NaN   \n11        1012      Harry    ...Potter    7066950392   \n12        1013        Don       Draper  123-543-2345   \n13        1014     Leslie        Knope  876|678|3469   \n14        1015       Toby  Flenderson_  304-762-2467   \n15        1016        Ron      Weasley  123-545-5421   \n16        1017   Michael         Scott  123/643/9775   \n17        1018      Clark         Kent    7066950392   \n18        1019      Creed       Braton           N/a   \n19        1020     Anakin    Skywalker  876|678|3469   \n\n                                  Address Paying Customer Do_Not_Contact  \n0                   123 Shire Lane, Shire             Yes             No  \n1                     93 West Main Street              No            Yes  \n2                      298 Drugs Driveway               N            NaN  \n3   980 Paper Avenue, Pennsylvania, 18503             Yes              Y  \n4                        123 Dragons Road               Y             No  \n5                        768 City Parkway             Yes            Yes  \n6                       1209 South Street              No             No  \n7                           98 Clue Drive               N             No  \n8                        123 Middle Earth             Yes            NaN  \n9              25th Main Street, New York             Yes             No  \n10                  612 Shire Lane, Shire             Yes             No  \n11                   2394 Hogwarts Avenue               Y            NaN  \n12                       2039 Main Street             Yes              N  \n13                       343 City Parkway             Yes             No  \n14                          214 HR Avenue               N             No  \n15                   2395 Hogwarts Avenue              No              N  \n16         121 Paper Avenue, Pennsylvania             Yes             No  \n17                        3498 Super Lane               Y            NaN  \n18                                    N/a             N/a            Yes  \n19            910 Tatooine Road, Tatooine             Yes              N  ",
      "text/html": "<div>\n<style scoped>\n    .dataframe tbody tr th:only-of-type {\n        vertical-align: middle;\n    }\n\n    .dataframe tbody tr th {\n        vertical-align: top;\n    }\n\n    .dataframe thead th {\n        text-align: right;\n    }\n</style>\n<table border=\"1\" class=\"dataframe\">\n  <thead>\n    <tr style=\"text-align: right;\">\n      <th></th>\n      <th>CustomerID</th>\n      <th>First_Name</th>\n      <th>Last_Name</th>\n      <th>Phone_Number</th>\n      <th>Address</th>\n      <th>Paying Customer</th>\n      <th>Do_Not_Contact</th>\n    </tr>\n  </thead>\n  <tbody>\n    <tr>\n      <th>0</th>\n      <td>1001</td>\n      <td>Frodo</td>\n      <td>Baggins</td>\n      <td>123-545-5421</td>\n      <td>123 Shire Lane, Shire</td>\n      <td>Yes</td>\n      <td>No</td>\n    </tr>\n    <tr>\n      <th>1</th>\n      <td>1002</td>\n      <td>Abed</td>\n      <td>Nadir</td>\n      <td>123/643/9775</td>\n      <td>93 West Main Street</td>\n      <td>No</td>\n      <td>Yes</td>\n    </tr>\n    <tr>\n      <th>2</th>\n      <td>1003</td>\n      <td>Walter</td>\n      <td>/White</td>\n      <td>7066950392</td>\n      <td>298 Drugs Driveway</td>\n      <td>N</td>\n      <td>NaN</td>\n    </tr>\n    <tr>\n      <th>3</th>\n      <td>1004</td>\n      <td>Dwight</td>\n      <td>Schrute</td>\n      <td>123-543-2345</td>\n      <td>980 Paper Avenue, Pennsylvania, 18503</td>\n      <td>Yes</td>\n      <td>Y</td>\n    </tr>\n    <tr>\n      <th>4</th>\n      <td>1005</td>\n      <td>Jon</td>\n      <td>Snow</td>\n      <td>876|678|3469</td>\n      <td>123 Dragons Road</td>\n      <td>Y</td>\n      <td>No</td>\n    </tr>\n    <tr>\n      <th>5</th>\n      <td>1006</td>\n      <td>Ron</td>\n      <td>Swanson</td>\n      <td>304-762-2467</td>\n      <td>768 City Parkway</td>\n      <td>Yes</td>\n      <td>Yes</td>\n    </tr>\n    <tr>\n      <th>6</th>\n      <td>1007</td>\n      <td>Jeff</td>\n      <td>Winger</td>\n      <td>NaN</td>\n      <td>1209 South Street</td>\n      <td>No</td>\n      <td>No</td>\n    </tr>\n    <tr>\n      <th>7</th>\n      <td>1008</td>\n      <td>Sherlock</td>\n      <td>Holmes</td>\n      <td>876|678|3469</td>\n      <td>98 Clue Drive</td>\n      <td>N</td>\n      <td>No</td>\n    </tr>\n    <tr>\n      <th>8</th>\n      <td>1009</td>\n      <td>Gandalf</td>\n      <td>NaN</td>\n      <td>N/a</td>\n      <td>123 Middle Earth</td>\n      <td>Yes</td>\n      <td>NaN</td>\n    </tr>\n    <tr>\n      <th>9</th>\n      <td>1010</td>\n      <td>Peter</td>\n      <td>Parker</td>\n      <td>123-545-5421</td>\n      <td>25th Main Street, New York</td>\n      <td>Yes</td>\n      <td>No</td>\n    </tr>\n    <tr>\n      <th>10</th>\n      <td>1011</td>\n      <td>Samwise</td>\n      <td>Gamgee</td>\n      <td>NaN</td>\n      <td>612 Shire Lane, Shire</td>\n      <td>Yes</td>\n      <td>No</td>\n    </tr>\n    <tr>\n      <th>11</th>\n      <td>1012</td>\n      <td>Harry</td>\n      <td>...Potter</td>\n      <td>7066950392</td>\n      <td>2394 Hogwarts Avenue</td>\n      <td>Y</td>\n      <td>NaN</td>\n    </tr>\n    <tr>\n      <th>12</th>\n      <td>1013</td>\n      <td>Don</td>\n      <td>Draper</td>\n      <td>123-543-2345</td>\n      <td>2039 Main Street</td>\n      <td>Yes</td>\n      <td>N</td>\n    </tr>\n    <tr>\n      <th>13</th>\n      <td>1014</td>\n      <td>Leslie</td>\n      <td>Knope</td>\n      <td>876|678|3469</td>\n      <td>343 City Parkway</td>\n      <td>Yes</td>\n      <td>No</td>\n    </tr>\n    <tr>\n      <th>14</th>\n      <td>1015</td>\n      <td>Toby</td>\n      <td>Flenderson_</td>\n      <td>304-762-2467</td>\n      <td>214 HR Avenue</td>\n      <td>N</td>\n      <td>No</td>\n    </tr>\n    <tr>\n      <th>15</th>\n      <td>1016</td>\n      <td>Ron</td>\n      <td>Weasley</td>\n      <td>123-545-5421</td>\n      <td>2395 Hogwarts Avenue</td>\n      <td>No</td>\n      <td>N</td>\n    </tr>\n    <tr>\n      <th>16</th>\n      <td>1017</td>\n      <td>Michael</td>\n      <td>Scott</td>\n      <td>123/643/9775</td>\n      <td>121 Paper Avenue, Pennsylvania</td>\n      <td>Yes</td>\n      <td>No</td>\n    </tr>\n    <tr>\n      <th>17</th>\n      <td>1018</td>\n      <td>Clark</td>\n      <td>Kent</td>\n      <td>7066950392</td>\n      <td>3498 Super Lane</td>\n      <td>Y</td>\n      <td>NaN</td>\n    </tr>\n    <tr>\n      <th>18</th>\n      <td>1019</td>\n      <td>Creed</td>\n      <td>Braton</td>\n      <td>N/a</td>\n      <td>N/a</td>\n      <td>N/a</td>\n      <td>Yes</td>\n    </tr>\n    <tr>\n      <th>19</th>\n      <td>1020</td>\n      <td>Anakin</td>\n      <td>Skywalker</td>\n      <td>876|678|3469</td>\n      <td>910 Tatooine Road, Tatooine</td>\n      <td>Yes</td>\n      <td>N</td>\n    </tr>\n  </tbody>\n</table>\n</div>"
     },
     "execution_count": 5,
     "metadata": {},
     "output_type": "execute_result"
    }
   ],
   "source": [
    "data = data.drop(columns=\"Not_Useful_Column\")\n",
    "data"
   ],
   "metadata": {
    "collapsed": false,
    "ExecuteTime": {
     "end_time": "2024-03-24T11:53:58.546383Z",
     "start_time": "2024-03-24T11:53:58.538526Z"
    }
   },
   "id": "c43a1a4921b04dfd"
  },
  {
   "cell_type": "code",
   "execution_count": 6,
   "outputs": [
    {
     "data": {
      "text/plain": "    CustomerID First_Name   Last_Name  Phone_Number  \\\n0         1001      Frodo     Baggins  123-545-5421   \n1         1002       Abed       Nadir  123/643/9775   \n2         1003     Walter       White    7066950392   \n3         1004     Dwight     Schrute  123-543-2345   \n4         1005        Jon        Snow  876|678|3469   \n5         1006        Ron     Swanson  304-762-2467   \n6         1007       Jeff      Winger           NaN   \n7         1008   Sherlock      Holmes  876|678|3469   \n8         1009    Gandalf         NaN           N/a   \n9         1010      Peter      Parker  123-545-5421   \n10        1011    Samwise      Gamgee           NaN   \n11        1012      Harry      Potter    7066950392   \n12        1013        Don      Draper  123-543-2345   \n13        1014     Leslie       Knope  876|678|3469   \n14        1015       Toby  Flenderson  304-762-2467   \n15        1016        Ron     Weasley  123-545-5421   \n16        1017   Michael        Scott  123/643/9775   \n17        1018      Clark        Kent    7066950392   \n18        1019      Creed      Braton           N/a   \n19        1020     Anakin   Skywalker  876|678|3469   \n\n                                  Address Paying Customer Do_Not_Contact  \n0                   123 Shire Lane, Shire             Yes             No  \n1                     93 West Main Street              No            Yes  \n2                      298 Drugs Driveway               N            NaN  \n3   980 Paper Avenue, Pennsylvania, 18503             Yes              Y  \n4                        123 Dragons Road               Y             No  \n5                        768 City Parkway             Yes            Yes  \n6                       1209 South Street              No             No  \n7                           98 Clue Drive               N             No  \n8                        123 Middle Earth             Yes            NaN  \n9              25th Main Street, New York             Yes             No  \n10                  612 Shire Lane, Shire             Yes             No  \n11                   2394 Hogwarts Avenue               Y            NaN  \n12                       2039 Main Street             Yes              N  \n13                       343 City Parkway             Yes             No  \n14                          214 HR Avenue               N             No  \n15                   2395 Hogwarts Avenue              No              N  \n16         121 Paper Avenue, Pennsylvania             Yes             No  \n17                        3498 Super Lane               Y            NaN  \n18                                    N/a             N/a            Yes  \n19            910 Tatooine Road, Tatooine             Yes              N  ",
      "text/html": "<div>\n<style scoped>\n    .dataframe tbody tr th:only-of-type {\n        vertical-align: middle;\n    }\n\n    .dataframe tbody tr th {\n        vertical-align: top;\n    }\n\n    .dataframe thead th {\n        text-align: right;\n    }\n</style>\n<table border=\"1\" class=\"dataframe\">\n  <thead>\n    <tr style=\"text-align: right;\">\n      <th></th>\n      <th>CustomerID</th>\n      <th>First_Name</th>\n      <th>Last_Name</th>\n      <th>Phone_Number</th>\n      <th>Address</th>\n      <th>Paying Customer</th>\n      <th>Do_Not_Contact</th>\n    </tr>\n  </thead>\n  <tbody>\n    <tr>\n      <th>0</th>\n      <td>1001</td>\n      <td>Frodo</td>\n      <td>Baggins</td>\n      <td>123-545-5421</td>\n      <td>123 Shire Lane, Shire</td>\n      <td>Yes</td>\n      <td>No</td>\n    </tr>\n    <tr>\n      <th>1</th>\n      <td>1002</td>\n      <td>Abed</td>\n      <td>Nadir</td>\n      <td>123/643/9775</td>\n      <td>93 West Main Street</td>\n      <td>No</td>\n      <td>Yes</td>\n    </tr>\n    <tr>\n      <th>2</th>\n      <td>1003</td>\n      <td>Walter</td>\n      <td>White</td>\n      <td>7066950392</td>\n      <td>298 Drugs Driveway</td>\n      <td>N</td>\n      <td>NaN</td>\n    </tr>\n    <tr>\n      <th>3</th>\n      <td>1004</td>\n      <td>Dwight</td>\n      <td>Schrute</td>\n      <td>123-543-2345</td>\n      <td>980 Paper Avenue, Pennsylvania, 18503</td>\n      <td>Yes</td>\n      <td>Y</td>\n    </tr>\n    <tr>\n      <th>4</th>\n      <td>1005</td>\n      <td>Jon</td>\n      <td>Snow</td>\n      <td>876|678|3469</td>\n      <td>123 Dragons Road</td>\n      <td>Y</td>\n      <td>No</td>\n    </tr>\n    <tr>\n      <th>5</th>\n      <td>1006</td>\n      <td>Ron</td>\n      <td>Swanson</td>\n      <td>304-762-2467</td>\n      <td>768 City Parkway</td>\n      <td>Yes</td>\n      <td>Yes</td>\n    </tr>\n    <tr>\n      <th>6</th>\n      <td>1007</td>\n      <td>Jeff</td>\n      <td>Winger</td>\n      <td>NaN</td>\n      <td>1209 South Street</td>\n      <td>No</td>\n      <td>No</td>\n    </tr>\n    <tr>\n      <th>7</th>\n      <td>1008</td>\n      <td>Sherlock</td>\n      <td>Holmes</td>\n      <td>876|678|3469</td>\n      <td>98 Clue Drive</td>\n      <td>N</td>\n      <td>No</td>\n    </tr>\n    <tr>\n      <th>8</th>\n      <td>1009</td>\n      <td>Gandalf</td>\n      <td>NaN</td>\n      <td>N/a</td>\n      <td>123 Middle Earth</td>\n      <td>Yes</td>\n      <td>NaN</td>\n    </tr>\n    <tr>\n      <th>9</th>\n      <td>1010</td>\n      <td>Peter</td>\n      <td>Parker</td>\n      <td>123-545-5421</td>\n      <td>25th Main Street, New York</td>\n      <td>Yes</td>\n      <td>No</td>\n    </tr>\n    <tr>\n      <th>10</th>\n      <td>1011</td>\n      <td>Samwise</td>\n      <td>Gamgee</td>\n      <td>NaN</td>\n      <td>612 Shire Lane, Shire</td>\n      <td>Yes</td>\n      <td>No</td>\n    </tr>\n    <tr>\n      <th>11</th>\n      <td>1012</td>\n      <td>Harry</td>\n      <td>Potter</td>\n      <td>7066950392</td>\n      <td>2394 Hogwarts Avenue</td>\n      <td>Y</td>\n      <td>NaN</td>\n    </tr>\n    <tr>\n      <th>12</th>\n      <td>1013</td>\n      <td>Don</td>\n      <td>Draper</td>\n      <td>123-543-2345</td>\n      <td>2039 Main Street</td>\n      <td>Yes</td>\n      <td>N</td>\n    </tr>\n    <tr>\n      <th>13</th>\n      <td>1014</td>\n      <td>Leslie</td>\n      <td>Knope</td>\n      <td>876|678|3469</td>\n      <td>343 City Parkway</td>\n      <td>Yes</td>\n      <td>No</td>\n    </tr>\n    <tr>\n      <th>14</th>\n      <td>1015</td>\n      <td>Toby</td>\n      <td>Flenderson</td>\n      <td>304-762-2467</td>\n      <td>214 HR Avenue</td>\n      <td>N</td>\n      <td>No</td>\n    </tr>\n    <tr>\n      <th>15</th>\n      <td>1016</td>\n      <td>Ron</td>\n      <td>Weasley</td>\n      <td>123-545-5421</td>\n      <td>2395 Hogwarts Avenue</td>\n      <td>No</td>\n      <td>N</td>\n    </tr>\n    <tr>\n      <th>16</th>\n      <td>1017</td>\n      <td>Michael</td>\n      <td>Scott</td>\n      <td>123/643/9775</td>\n      <td>121 Paper Avenue, Pennsylvania</td>\n      <td>Yes</td>\n      <td>No</td>\n    </tr>\n    <tr>\n      <th>17</th>\n      <td>1018</td>\n      <td>Clark</td>\n      <td>Kent</td>\n      <td>7066950392</td>\n      <td>3498 Super Lane</td>\n      <td>Y</td>\n      <td>NaN</td>\n    </tr>\n    <tr>\n      <th>18</th>\n      <td>1019</td>\n      <td>Creed</td>\n      <td>Braton</td>\n      <td>N/a</td>\n      <td>N/a</td>\n      <td>N/a</td>\n      <td>Yes</td>\n    </tr>\n    <tr>\n      <th>19</th>\n      <td>1020</td>\n      <td>Anakin</td>\n      <td>Skywalker</td>\n      <td>876|678|3469</td>\n      <td>910 Tatooine Road, Tatooine</td>\n      <td>Yes</td>\n      <td>N</td>\n    </tr>\n  </tbody>\n</table>\n</div>"
     },
     "execution_count": 6,
     "metadata": {},
     "output_type": "execute_result"
    }
   ],
   "source": [
    "data[\"Last_Name\"] = data[\"Last_Name\"].str.strip(\"./_\")\n",
    "data"
   ],
   "metadata": {
    "collapsed": false,
    "ExecuteTime": {
     "end_time": "2024-03-24T11:53:58.694911Z",
     "start_time": "2024-03-24T11:53:58.691858Z"
    }
   },
   "id": "58f39841c0875335"
  },
  {
   "cell_type": "code",
   "execution_count": 7,
   "outputs": [
    {
     "name": "stderr",
     "output_type": "stream",
     "text": [
      "/var/folders/k5/g6l5vlcd3cd5kgk5543hzn0w0000gn/T/ipykernel_1495/3978367793.py:6: SettingWithCopyWarning: \n",
      "A value is trying to be set on a copy of a slice from a DataFrame\n",
      "\n",
      "See the caveats in the documentation: https://pandas.pydata.org/pandas-docs/stable/user_guide/indexing.html#returning-a-view-versus-a-copy\n",
      "  data[\"Phone_Number\"][i] = x if x != \"Na--\" and x != \"nan--\" else \"\"\n",
      "/var/folders/k5/g6l5vlcd3cd5kgk5543hzn0w0000gn/T/ipykernel_1495/3978367793.py:6: SettingWithCopyWarning: \n",
      "A value is trying to be set on a copy of a slice from a DataFrame\n",
      "\n",
      "See the caveats in the documentation: https://pandas.pydata.org/pandas-docs/stable/user_guide/indexing.html#returning-a-view-versus-a-copy\n",
      "  data[\"Phone_Number\"][i] = x if x != \"Na--\" and x != \"nan--\" else \"\"\n",
      "/var/folders/k5/g6l5vlcd3cd5kgk5543hzn0w0000gn/T/ipykernel_1495/3978367793.py:6: SettingWithCopyWarning: \n",
      "A value is trying to be set on a copy of a slice from a DataFrame\n",
      "\n",
      "See the caveats in the documentation: https://pandas.pydata.org/pandas-docs/stable/user_guide/indexing.html#returning-a-view-versus-a-copy\n",
      "  data[\"Phone_Number\"][i] = x if x != \"Na--\" and x != \"nan--\" else \"\"\n",
      "/var/folders/k5/g6l5vlcd3cd5kgk5543hzn0w0000gn/T/ipykernel_1495/3978367793.py:6: SettingWithCopyWarning: \n",
      "A value is trying to be set on a copy of a slice from a DataFrame\n",
      "\n",
      "See the caveats in the documentation: https://pandas.pydata.org/pandas-docs/stable/user_guide/indexing.html#returning-a-view-versus-a-copy\n",
      "  data[\"Phone_Number\"][i] = x if x != \"Na--\" and x != \"nan--\" else \"\"\n",
      "/var/folders/k5/g6l5vlcd3cd5kgk5543hzn0w0000gn/T/ipykernel_1495/3978367793.py:6: SettingWithCopyWarning: \n",
      "A value is trying to be set on a copy of a slice from a DataFrame\n",
      "\n",
      "See the caveats in the documentation: https://pandas.pydata.org/pandas-docs/stable/user_guide/indexing.html#returning-a-view-versus-a-copy\n",
      "  data[\"Phone_Number\"][i] = x if x != \"Na--\" and x != \"nan--\" else \"\"\n",
      "/var/folders/k5/g6l5vlcd3cd5kgk5543hzn0w0000gn/T/ipykernel_1495/3978367793.py:6: SettingWithCopyWarning: \n",
      "A value is trying to be set on a copy of a slice from a DataFrame\n",
      "\n",
      "See the caveats in the documentation: https://pandas.pydata.org/pandas-docs/stable/user_guide/indexing.html#returning-a-view-versus-a-copy\n",
      "  data[\"Phone_Number\"][i] = x if x != \"Na--\" and x != \"nan--\" else \"\"\n",
      "/var/folders/k5/g6l5vlcd3cd5kgk5543hzn0w0000gn/T/ipykernel_1495/3978367793.py:6: SettingWithCopyWarning: \n",
      "A value is trying to be set on a copy of a slice from a DataFrame\n",
      "\n",
      "See the caveats in the documentation: https://pandas.pydata.org/pandas-docs/stable/user_guide/indexing.html#returning-a-view-versus-a-copy\n",
      "  data[\"Phone_Number\"][i] = x if x != \"Na--\" and x != \"nan--\" else \"\"\n",
      "/var/folders/k5/g6l5vlcd3cd5kgk5543hzn0w0000gn/T/ipykernel_1495/3978367793.py:6: SettingWithCopyWarning: \n",
      "A value is trying to be set on a copy of a slice from a DataFrame\n",
      "\n",
      "See the caveats in the documentation: https://pandas.pydata.org/pandas-docs/stable/user_guide/indexing.html#returning-a-view-versus-a-copy\n",
      "  data[\"Phone_Number\"][i] = x if x != \"Na--\" and x != \"nan--\" else \"\"\n",
      "/var/folders/k5/g6l5vlcd3cd5kgk5543hzn0w0000gn/T/ipykernel_1495/3978367793.py:6: SettingWithCopyWarning: \n",
      "A value is trying to be set on a copy of a slice from a DataFrame\n",
      "\n",
      "See the caveats in the documentation: https://pandas.pydata.org/pandas-docs/stable/user_guide/indexing.html#returning-a-view-versus-a-copy\n",
      "  data[\"Phone_Number\"][i] = x if x != \"Na--\" and x != \"nan--\" else \"\"\n",
      "/var/folders/k5/g6l5vlcd3cd5kgk5543hzn0w0000gn/T/ipykernel_1495/3978367793.py:6: SettingWithCopyWarning: \n",
      "A value is trying to be set on a copy of a slice from a DataFrame\n",
      "\n",
      "See the caveats in the documentation: https://pandas.pydata.org/pandas-docs/stable/user_guide/indexing.html#returning-a-view-versus-a-copy\n",
      "  data[\"Phone_Number\"][i] = x if x != \"Na--\" and x != \"nan--\" else \"\"\n",
      "/var/folders/k5/g6l5vlcd3cd5kgk5543hzn0w0000gn/T/ipykernel_1495/3978367793.py:6: SettingWithCopyWarning: \n",
      "A value is trying to be set on a copy of a slice from a DataFrame\n",
      "\n",
      "See the caveats in the documentation: https://pandas.pydata.org/pandas-docs/stable/user_guide/indexing.html#returning-a-view-versus-a-copy\n",
      "  data[\"Phone_Number\"][i] = x if x != \"Na--\" and x != \"nan--\" else \"\"\n",
      "/var/folders/k5/g6l5vlcd3cd5kgk5543hzn0w0000gn/T/ipykernel_1495/3978367793.py:6: SettingWithCopyWarning: \n",
      "A value is trying to be set on a copy of a slice from a DataFrame\n",
      "\n",
      "See the caveats in the documentation: https://pandas.pydata.org/pandas-docs/stable/user_guide/indexing.html#returning-a-view-versus-a-copy\n",
      "  data[\"Phone_Number\"][i] = x if x != \"Na--\" and x != \"nan--\" else \"\"\n",
      "/var/folders/k5/g6l5vlcd3cd5kgk5543hzn0w0000gn/T/ipykernel_1495/3978367793.py:6: SettingWithCopyWarning: \n",
      "A value is trying to be set on a copy of a slice from a DataFrame\n",
      "\n",
      "See the caveats in the documentation: https://pandas.pydata.org/pandas-docs/stable/user_guide/indexing.html#returning-a-view-versus-a-copy\n",
      "  data[\"Phone_Number\"][i] = x if x != \"Na--\" and x != \"nan--\" else \"\"\n",
      "/var/folders/k5/g6l5vlcd3cd5kgk5543hzn0w0000gn/T/ipykernel_1495/3978367793.py:6: SettingWithCopyWarning: \n",
      "A value is trying to be set on a copy of a slice from a DataFrame\n",
      "\n",
      "See the caveats in the documentation: https://pandas.pydata.org/pandas-docs/stable/user_guide/indexing.html#returning-a-view-versus-a-copy\n",
      "  data[\"Phone_Number\"][i] = x if x != \"Na--\" and x != \"nan--\" else \"\"\n",
      "/var/folders/k5/g6l5vlcd3cd5kgk5543hzn0w0000gn/T/ipykernel_1495/3978367793.py:6: SettingWithCopyWarning: \n",
      "A value is trying to be set on a copy of a slice from a DataFrame\n",
      "\n",
      "See the caveats in the documentation: https://pandas.pydata.org/pandas-docs/stable/user_guide/indexing.html#returning-a-view-versus-a-copy\n",
      "  data[\"Phone_Number\"][i] = x if x != \"Na--\" and x != \"nan--\" else \"\"\n",
      "/var/folders/k5/g6l5vlcd3cd5kgk5543hzn0w0000gn/T/ipykernel_1495/3978367793.py:6: SettingWithCopyWarning: \n",
      "A value is trying to be set on a copy of a slice from a DataFrame\n",
      "\n",
      "See the caveats in the documentation: https://pandas.pydata.org/pandas-docs/stable/user_guide/indexing.html#returning-a-view-versus-a-copy\n",
      "  data[\"Phone_Number\"][i] = x if x != \"Na--\" and x != \"nan--\" else \"\"\n",
      "/var/folders/k5/g6l5vlcd3cd5kgk5543hzn0w0000gn/T/ipykernel_1495/3978367793.py:6: SettingWithCopyWarning: \n",
      "A value is trying to be set on a copy of a slice from a DataFrame\n",
      "\n",
      "See the caveats in the documentation: https://pandas.pydata.org/pandas-docs/stable/user_guide/indexing.html#returning-a-view-versus-a-copy\n",
      "  data[\"Phone_Number\"][i] = x if x != \"Na--\" and x != \"nan--\" else \"\"\n",
      "/var/folders/k5/g6l5vlcd3cd5kgk5543hzn0w0000gn/T/ipykernel_1495/3978367793.py:6: SettingWithCopyWarning: \n",
      "A value is trying to be set on a copy of a slice from a DataFrame\n",
      "\n",
      "See the caveats in the documentation: https://pandas.pydata.org/pandas-docs/stable/user_guide/indexing.html#returning-a-view-versus-a-copy\n",
      "  data[\"Phone_Number\"][i] = x if x != \"Na--\" and x != \"nan--\" else \"\"\n",
      "/var/folders/k5/g6l5vlcd3cd5kgk5543hzn0w0000gn/T/ipykernel_1495/3978367793.py:6: SettingWithCopyWarning: \n",
      "A value is trying to be set on a copy of a slice from a DataFrame\n",
      "\n",
      "See the caveats in the documentation: https://pandas.pydata.org/pandas-docs/stable/user_guide/indexing.html#returning-a-view-versus-a-copy\n",
      "  data[\"Phone_Number\"][i] = x if x != \"Na--\" and x != \"nan--\" else \"\"\n",
      "/var/folders/k5/g6l5vlcd3cd5kgk5543hzn0w0000gn/T/ipykernel_1495/3978367793.py:6: SettingWithCopyWarning: \n",
      "A value is trying to be set on a copy of a slice from a DataFrame\n",
      "\n",
      "See the caveats in the documentation: https://pandas.pydata.org/pandas-docs/stable/user_guide/indexing.html#returning-a-view-versus-a-copy\n",
      "  data[\"Phone_Number\"][i] = x if x != \"Na--\" and x != \"nan--\" else \"\"\n"
     ]
    },
    {
     "data": {
      "text/plain": "    CustomerID First_Name   Last_Name  Phone_Number  \\\n0         1001      Frodo     Baggins  123-545-5421   \n1         1002       Abed       Nadir  123-643-9775   \n2         1003     Walter       White                 \n3         1004     Dwight     Schrute  123-543-2345   \n4         1005        Jon        Snow  876-678-3469   \n5         1006        Ron     Swanson  304-762-2467   \n6         1007       Jeff      Winger                 \n7         1008   Sherlock      Holmes  876-678-3469   \n8         1009    Gandalf         NaN                 \n9         1010      Peter      Parker  123-545-5421   \n10        1011    Samwise      Gamgee                 \n11        1012      Harry      Potter                 \n12        1013        Don      Draper  123-543-2345   \n13        1014     Leslie       Knope  876-678-3469   \n14        1015       Toby  Flenderson  304-762-2467   \n15        1016        Ron     Weasley  123-545-5421   \n16        1017   Michael        Scott  123-643-9775   \n17        1018      Clark        Kent                 \n18        1019      Creed      Braton                 \n19        1020     Anakin   Skywalker  876-678-3469   \n\n                                  Address Paying Customer Do_Not_Contact  \n0                   123 Shire Lane, Shire             Yes             No  \n1                     93 West Main Street              No            Yes  \n2                      298 Drugs Driveway               N            NaN  \n3   980 Paper Avenue, Pennsylvania, 18503             Yes              Y  \n4                        123 Dragons Road               Y             No  \n5                        768 City Parkway             Yes            Yes  \n6                       1209 South Street              No             No  \n7                           98 Clue Drive               N             No  \n8                        123 Middle Earth             Yes            NaN  \n9              25th Main Street, New York             Yes             No  \n10                  612 Shire Lane, Shire             Yes             No  \n11                   2394 Hogwarts Avenue               Y            NaN  \n12                       2039 Main Street             Yes              N  \n13                       343 City Parkway             Yes             No  \n14                          214 HR Avenue               N             No  \n15                   2395 Hogwarts Avenue              No              N  \n16         121 Paper Avenue, Pennsylvania             Yes             No  \n17                        3498 Super Lane               Y            NaN  \n18                                    N/a             N/a            Yes  \n19            910 Tatooine Road, Tatooine             Yes              N  ",
      "text/html": "<div>\n<style scoped>\n    .dataframe tbody tr th:only-of-type {\n        vertical-align: middle;\n    }\n\n    .dataframe tbody tr th {\n        vertical-align: top;\n    }\n\n    .dataframe thead th {\n        text-align: right;\n    }\n</style>\n<table border=\"1\" class=\"dataframe\">\n  <thead>\n    <tr style=\"text-align: right;\">\n      <th></th>\n      <th>CustomerID</th>\n      <th>First_Name</th>\n      <th>Last_Name</th>\n      <th>Phone_Number</th>\n      <th>Address</th>\n      <th>Paying Customer</th>\n      <th>Do_Not_Contact</th>\n    </tr>\n  </thead>\n  <tbody>\n    <tr>\n      <th>0</th>\n      <td>1001</td>\n      <td>Frodo</td>\n      <td>Baggins</td>\n      <td>123-545-5421</td>\n      <td>123 Shire Lane, Shire</td>\n      <td>Yes</td>\n      <td>No</td>\n    </tr>\n    <tr>\n      <th>1</th>\n      <td>1002</td>\n      <td>Abed</td>\n      <td>Nadir</td>\n      <td>123-643-9775</td>\n      <td>93 West Main Street</td>\n      <td>No</td>\n      <td>Yes</td>\n    </tr>\n    <tr>\n      <th>2</th>\n      <td>1003</td>\n      <td>Walter</td>\n      <td>White</td>\n      <td></td>\n      <td>298 Drugs Driveway</td>\n      <td>N</td>\n      <td>NaN</td>\n    </tr>\n    <tr>\n      <th>3</th>\n      <td>1004</td>\n      <td>Dwight</td>\n      <td>Schrute</td>\n      <td>123-543-2345</td>\n      <td>980 Paper Avenue, Pennsylvania, 18503</td>\n      <td>Yes</td>\n      <td>Y</td>\n    </tr>\n    <tr>\n      <th>4</th>\n      <td>1005</td>\n      <td>Jon</td>\n      <td>Snow</td>\n      <td>876-678-3469</td>\n      <td>123 Dragons Road</td>\n      <td>Y</td>\n      <td>No</td>\n    </tr>\n    <tr>\n      <th>5</th>\n      <td>1006</td>\n      <td>Ron</td>\n      <td>Swanson</td>\n      <td>304-762-2467</td>\n      <td>768 City Parkway</td>\n      <td>Yes</td>\n      <td>Yes</td>\n    </tr>\n    <tr>\n      <th>6</th>\n      <td>1007</td>\n      <td>Jeff</td>\n      <td>Winger</td>\n      <td></td>\n      <td>1209 South Street</td>\n      <td>No</td>\n      <td>No</td>\n    </tr>\n    <tr>\n      <th>7</th>\n      <td>1008</td>\n      <td>Sherlock</td>\n      <td>Holmes</td>\n      <td>876-678-3469</td>\n      <td>98 Clue Drive</td>\n      <td>N</td>\n      <td>No</td>\n    </tr>\n    <tr>\n      <th>8</th>\n      <td>1009</td>\n      <td>Gandalf</td>\n      <td>NaN</td>\n      <td></td>\n      <td>123 Middle Earth</td>\n      <td>Yes</td>\n      <td>NaN</td>\n    </tr>\n    <tr>\n      <th>9</th>\n      <td>1010</td>\n      <td>Peter</td>\n      <td>Parker</td>\n      <td>123-545-5421</td>\n      <td>25th Main Street, New York</td>\n      <td>Yes</td>\n      <td>No</td>\n    </tr>\n    <tr>\n      <th>10</th>\n      <td>1011</td>\n      <td>Samwise</td>\n      <td>Gamgee</td>\n      <td></td>\n      <td>612 Shire Lane, Shire</td>\n      <td>Yes</td>\n      <td>No</td>\n    </tr>\n    <tr>\n      <th>11</th>\n      <td>1012</td>\n      <td>Harry</td>\n      <td>Potter</td>\n      <td></td>\n      <td>2394 Hogwarts Avenue</td>\n      <td>Y</td>\n      <td>NaN</td>\n    </tr>\n    <tr>\n      <th>12</th>\n      <td>1013</td>\n      <td>Don</td>\n      <td>Draper</td>\n      <td>123-543-2345</td>\n      <td>2039 Main Street</td>\n      <td>Yes</td>\n      <td>N</td>\n    </tr>\n    <tr>\n      <th>13</th>\n      <td>1014</td>\n      <td>Leslie</td>\n      <td>Knope</td>\n      <td>876-678-3469</td>\n      <td>343 City Parkway</td>\n      <td>Yes</td>\n      <td>No</td>\n    </tr>\n    <tr>\n      <th>14</th>\n      <td>1015</td>\n      <td>Toby</td>\n      <td>Flenderson</td>\n      <td>304-762-2467</td>\n      <td>214 HR Avenue</td>\n      <td>N</td>\n      <td>No</td>\n    </tr>\n    <tr>\n      <th>15</th>\n      <td>1016</td>\n      <td>Ron</td>\n      <td>Weasley</td>\n      <td>123-545-5421</td>\n      <td>2395 Hogwarts Avenue</td>\n      <td>No</td>\n      <td>N</td>\n    </tr>\n    <tr>\n      <th>16</th>\n      <td>1017</td>\n      <td>Michael</td>\n      <td>Scott</td>\n      <td>123-643-9775</td>\n      <td>121 Paper Avenue, Pennsylvania</td>\n      <td>Yes</td>\n      <td>No</td>\n    </tr>\n    <tr>\n      <th>17</th>\n      <td>1018</td>\n      <td>Clark</td>\n      <td>Kent</td>\n      <td></td>\n      <td>3498 Super Lane</td>\n      <td>Y</td>\n      <td>NaN</td>\n    </tr>\n    <tr>\n      <th>18</th>\n      <td>1019</td>\n      <td>Creed</td>\n      <td>Braton</td>\n      <td></td>\n      <td>N/a</td>\n      <td>N/a</td>\n      <td>Yes</td>\n    </tr>\n    <tr>\n      <th>19</th>\n      <td>1020</td>\n      <td>Anakin</td>\n      <td>Skywalker</td>\n      <td>876-678-3469</td>\n      <td>910 Tatooine Road, Tatooine</td>\n      <td>Yes</td>\n      <td>N</td>\n    </tr>\n  </tbody>\n</table>\n</div>"
     },
     "execution_count": 7,
     "metadata": {},
     "output_type": "execute_result"
    }
   ],
   "source": [
    "data[\"Phone_Number\"] = data[\"Phone_Number\"].str.replace('[^a-zA-Z0-9]', '', regex=True)\n",
    "for i in range(len(data[\"Phone_Number\"])):\n",
    "    x = data[\"Phone_Number\"][i]\n",
    "    x = str(x)\n",
    "    x = x[0:3] + '-' + x[3:6] + '-' + x[6:]\n",
    "    data[\"Phone_Number\"][i] = x if x != \"Na--\" and x != \"nan--\" else \"\"\n",
    "data"
   ],
   "metadata": {
    "collapsed": false,
    "ExecuteTime": {
     "end_time": "2024-03-24T11:53:58.863928Z",
     "start_time": "2024-03-24T11:53:58.857516Z"
    }
   },
   "id": "d73928fddcd2ba0d"
  },
  {
   "cell_type": "code",
   "execution_count": 8,
   "outputs": [
    {
     "data": {
      "text/plain": "    CustomerID First_Name   Last_Name  Phone_Number  \\\n0         1001      Frodo     Baggins  123-545-5421   \n1         1002       Abed       Nadir  123-643-9775   \n2         1003     Walter       White                 \n3         1004     Dwight     Schrute  123-543-2345   \n4         1005        Jon        Snow  876-678-3469   \n5         1006        Ron     Swanson  304-762-2467   \n6         1007       Jeff      Winger                 \n7         1008   Sherlock      Holmes  876-678-3469   \n8         1009    Gandalf         NaN                 \n9         1010      Peter      Parker  123-545-5421   \n10        1011    Samwise      Gamgee                 \n11        1012      Harry      Potter                 \n12        1013        Don      Draper  123-543-2345   \n13        1014     Leslie       Knope  876-678-3469   \n14        1015       Toby  Flenderson  304-762-2467   \n15        1016        Ron     Weasley  123-545-5421   \n16        1017   Michael        Scott  123-643-9775   \n17        1018      Clark        Kent                 \n18        1019      Creed      Braton                 \n19        1020     Anakin   Skywalker  876-678-3469   \n\n                                  Address Paying Customer Do_Not_Contact  \n0                   123 Shire Lane, Shire               Y              N  \n1                     93 West Main Street               N              Y  \n2                      298 Drugs Driveway               N            NaN  \n3   980 Paper Avenue, Pennsylvania, 18503               Y              Y  \n4                        123 Dragons Road               Y              N  \n5                        768 City Parkway               Y              Y  \n6                       1209 South Street               N              N  \n7                           98 Clue Drive               N              N  \n8                        123 Middle Earth               Y            NaN  \n9              25th Main Street, New York               Y              N  \n10                  612 Shire Lane, Shire               Y              N  \n11                   2394 Hogwarts Avenue               Y            NaN  \n12                       2039 Main Street               Y              N  \n13                       343 City Parkway               Y              N  \n14                          214 HR Avenue               N              N  \n15                   2395 Hogwarts Avenue               N              N  \n16         121 Paper Avenue, Pennsylvania               Y              N  \n17                        3498 Super Lane               Y            NaN  \n18                                    N/a             N/a              Y  \n19            910 Tatooine Road, Tatooine               Y              N  ",
      "text/html": "<div>\n<style scoped>\n    .dataframe tbody tr th:only-of-type {\n        vertical-align: middle;\n    }\n\n    .dataframe tbody tr th {\n        vertical-align: top;\n    }\n\n    .dataframe thead th {\n        text-align: right;\n    }\n</style>\n<table border=\"1\" class=\"dataframe\">\n  <thead>\n    <tr style=\"text-align: right;\">\n      <th></th>\n      <th>CustomerID</th>\n      <th>First_Name</th>\n      <th>Last_Name</th>\n      <th>Phone_Number</th>\n      <th>Address</th>\n      <th>Paying Customer</th>\n      <th>Do_Not_Contact</th>\n    </tr>\n  </thead>\n  <tbody>\n    <tr>\n      <th>0</th>\n      <td>1001</td>\n      <td>Frodo</td>\n      <td>Baggins</td>\n      <td>123-545-5421</td>\n      <td>123 Shire Lane, Shire</td>\n      <td>Y</td>\n      <td>N</td>\n    </tr>\n    <tr>\n      <th>1</th>\n      <td>1002</td>\n      <td>Abed</td>\n      <td>Nadir</td>\n      <td>123-643-9775</td>\n      <td>93 West Main Street</td>\n      <td>N</td>\n      <td>Y</td>\n    </tr>\n    <tr>\n      <th>2</th>\n      <td>1003</td>\n      <td>Walter</td>\n      <td>White</td>\n      <td></td>\n      <td>298 Drugs Driveway</td>\n      <td>N</td>\n      <td>NaN</td>\n    </tr>\n    <tr>\n      <th>3</th>\n      <td>1004</td>\n      <td>Dwight</td>\n      <td>Schrute</td>\n      <td>123-543-2345</td>\n      <td>980 Paper Avenue, Pennsylvania, 18503</td>\n      <td>Y</td>\n      <td>Y</td>\n    </tr>\n    <tr>\n      <th>4</th>\n      <td>1005</td>\n      <td>Jon</td>\n      <td>Snow</td>\n      <td>876-678-3469</td>\n      <td>123 Dragons Road</td>\n      <td>Y</td>\n      <td>N</td>\n    </tr>\n    <tr>\n      <th>5</th>\n      <td>1006</td>\n      <td>Ron</td>\n      <td>Swanson</td>\n      <td>304-762-2467</td>\n      <td>768 City Parkway</td>\n      <td>Y</td>\n      <td>Y</td>\n    </tr>\n    <tr>\n      <th>6</th>\n      <td>1007</td>\n      <td>Jeff</td>\n      <td>Winger</td>\n      <td></td>\n      <td>1209 South Street</td>\n      <td>N</td>\n      <td>N</td>\n    </tr>\n    <tr>\n      <th>7</th>\n      <td>1008</td>\n      <td>Sherlock</td>\n      <td>Holmes</td>\n      <td>876-678-3469</td>\n      <td>98 Clue Drive</td>\n      <td>N</td>\n      <td>N</td>\n    </tr>\n    <tr>\n      <th>8</th>\n      <td>1009</td>\n      <td>Gandalf</td>\n      <td>NaN</td>\n      <td></td>\n      <td>123 Middle Earth</td>\n      <td>Y</td>\n      <td>NaN</td>\n    </tr>\n    <tr>\n      <th>9</th>\n      <td>1010</td>\n      <td>Peter</td>\n      <td>Parker</td>\n      <td>123-545-5421</td>\n      <td>25th Main Street, New York</td>\n      <td>Y</td>\n      <td>N</td>\n    </tr>\n    <tr>\n      <th>10</th>\n      <td>1011</td>\n      <td>Samwise</td>\n      <td>Gamgee</td>\n      <td></td>\n      <td>612 Shire Lane, Shire</td>\n      <td>Y</td>\n      <td>N</td>\n    </tr>\n    <tr>\n      <th>11</th>\n      <td>1012</td>\n      <td>Harry</td>\n      <td>Potter</td>\n      <td></td>\n      <td>2394 Hogwarts Avenue</td>\n      <td>Y</td>\n      <td>NaN</td>\n    </tr>\n    <tr>\n      <th>12</th>\n      <td>1013</td>\n      <td>Don</td>\n      <td>Draper</td>\n      <td>123-543-2345</td>\n      <td>2039 Main Street</td>\n      <td>Y</td>\n      <td>N</td>\n    </tr>\n    <tr>\n      <th>13</th>\n      <td>1014</td>\n      <td>Leslie</td>\n      <td>Knope</td>\n      <td>876-678-3469</td>\n      <td>343 City Parkway</td>\n      <td>Y</td>\n      <td>N</td>\n    </tr>\n    <tr>\n      <th>14</th>\n      <td>1015</td>\n      <td>Toby</td>\n      <td>Flenderson</td>\n      <td>304-762-2467</td>\n      <td>214 HR Avenue</td>\n      <td>N</td>\n      <td>N</td>\n    </tr>\n    <tr>\n      <th>15</th>\n      <td>1016</td>\n      <td>Ron</td>\n      <td>Weasley</td>\n      <td>123-545-5421</td>\n      <td>2395 Hogwarts Avenue</td>\n      <td>N</td>\n      <td>N</td>\n    </tr>\n    <tr>\n      <th>16</th>\n      <td>1017</td>\n      <td>Michael</td>\n      <td>Scott</td>\n      <td>123-643-9775</td>\n      <td>121 Paper Avenue, Pennsylvania</td>\n      <td>Y</td>\n      <td>N</td>\n    </tr>\n    <tr>\n      <th>17</th>\n      <td>1018</td>\n      <td>Clark</td>\n      <td>Kent</td>\n      <td></td>\n      <td>3498 Super Lane</td>\n      <td>Y</td>\n      <td>NaN</td>\n    </tr>\n    <tr>\n      <th>18</th>\n      <td>1019</td>\n      <td>Creed</td>\n      <td>Braton</td>\n      <td></td>\n      <td>N/a</td>\n      <td>N/a</td>\n      <td>Y</td>\n    </tr>\n    <tr>\n      <th>19</th>\n      <td>1020</td>\n      <td>Anakin</td>\n      <td>Skywalker</td>\n      <td>876-678-3469</td>\n      <td>910 Tatooine Road, Tatooine</td>\n      <td>Y</td>\n      <td>N</td>\n    </tr>\n  </tbody>\n</table>\n</div>"
     },
     "execution_count": 8,
     "metadata": {},
     "output_type": "execute_result"
    }
   ],
   "source": [
    "data[\"Paying Customer\"] = data[\"Paying Customer\"].str.replace('Yes', \"Y\")\n",
    "data[\"Paying Customer\"] = data[\"Paying Customer\"].str.replace('No', \"N\")\n",
    "data[\"Do_Not_Contact\"] = data[\"Do_Not_Contact\"].str.replace('Yes', \"Y\")\n",
    "data[\"Do_Not_Contact\"] = data[\"Do_Not_Contact\"].str.replace('No', \"N\")\n",
    "data"
   ],
   "metadata": {
    "collapsed": false,
    "ExecuteTime": {
     "end_time": "2024-03-24T11:53:59.025380Z",
     "start_time": "2024-03-24T11:53:59.012902Z"
    }
   },
   "id": "c5ccdb4ce78b954a"
  },
  {
   "cell_type": "code",
   "execution_count": 9,
   "outputs": [
    {
     "data": {
      "text/plain": "    CustomerID First_Name   Last_Name  Phone_Number  \\\n0         1001      Frodo     Baggins  123-545-5421   \n1         1002       Abed       Nadir  123-643-9775   \n2         1003     Walter       White                 \n3         1004     Dwight     Schrute  123-543-2345   \n4         1005        Jon        Snow  876-678-3469   \n5         1006        Ron     Swanson  304-762-2467   \n6         1007       Jeff      Winger                 \n7         1008   Sherlock      Holmes  876-678-3469   \n8         1009    Gandalf                             \n9         1010      Peter      Parker  123-545-5421   \n10        1011    Samwise      Gamgee                 \n11        1012      Harry      Potter                 \n12        1013        Don      Draper  123-543-2345   \n13        1014     Leslie       Knope  876-678-3469   \n14        1015       Toby  Flenderson  304-762-2467   \n15        1016        Ron     Weasley  123-545-5421   \n16        1017   Michael        Scott  123-643-9775   \n17        1018      Clark        Kent                 \n18        1019      Creed      Braton                 \n19        1020     Anakin   Skywalker  876-678-3469   \n\n                                  Address Paying Customer Do_Not_Contact  \n0                   123 Shire Lane, Shire               Y              N  \n1                     93 West Main Street               N              Y  \n2                      298 Drugs Driveway               N                 \n3   980 Paper Avenue, Pennsylvania, 18503               Y              Y  \n4                        123 Dragons Road               Y              N  \n5                        768 City Parkway               Y              Y  \n6                       1209 South Street               N              N  \n7                           98 Clue Drive               N              N  \n8                        123 Middle Earth               Y                 \n9              25th Main Street, New York               Y              N  \n10                  612 Shire Lane, Shire               Y              N  \n11                   2394 Hogwarts Avenue               Y                 \n12                       2039 Main Street               Y              N  \n13                       343 City Parkway               Y              N  \n14                          214 HR Avenue               N              N  \n15                   2395 Hogwarts Avenue               N              N  \n16         121 Paper Avenue, Pennsylvania               Y              N  \n17                        3498 Super Lane               Y                 \n18                        3498 Super Lane               Y              Y  \n19            910 Tatooine Road, Tatooine               Y              N  ",
      "text/html": "<div>\n<style scoped>\n    .dataframe tbody tr th:only-of-type {\n        vertical-align: middle;\n    }\n\n    .dataframe tbody tr th {\n        vertical-align: top;\n    }\n\n    .dataframe thead th {\n        text-align: right;\n    }\n</style>\n<table border=\"1\" class=\"dataframe\">\n  <thead>\n    <tr style=\"text-align: right;\">\n      <th></th>\n      <th>CustomerID</th>\n      <th>First_Name</th>\n      <th>Last_Name</th>\n      <th>Phone_Number</th>\n      <th>Address</th>\n      <th>Paying Customer</th>\n      <th>Do_Not_Contact</th>\n    </tr>\n  </thead>\n  <tbody>\n    <tr>\n      <th>0</th>\n      <td>1001</td>\n      <td>Frodo</td>\n      <td>Baggins</td>\n      <td>123-545-5421</td>\n      <td>123 Shire Lane, Shire</td>\n      <td>Y</td>\n      <td>N</td>\n    </tr>\n    <tr>\n      <th>1</th>\n      <td>1002</td>\n      <td>Abed</td>\n      <td>Nadir</td>\n      <td>123-643-9775</td>\n      <td>93 West Main Street</td>\n      <td>N</td>\n      <td>Y</td>\n    </tr>\n    <tr>\n      <th>2</th>\n      <td>1003</td>\n      <td>Walter</td>\n      <td>White</td>\n      <td></td>\n      <td>298 Drugs Driveway</td>\n      <td>N</td>\n      <td></td>\n    </tr>\n    <tr>\n      <th>3</th>\n      <td>1004</td>\n      <td>Dwight</td>\n      <td>Schrute</td>\n      <td>123-543-2345</td>\n      <td>980 Paper Avenue, Pennsylvania, 18503</td>\n      <td>Y</td>\n      <td>Y</td>\n    </tr>\n    <tr>\n      <th>4</th>\n      <td>1005</td>\n      <td>Jon</td>\n      <td>Snow</td>\n      <td>876-678-3469</td>\n      <td>123 Dragons Road</td>\n      <td>Y</td>\n      <td>N</td>\n    </tr>\n    <tr>\n      <th>5</th>\n      <td>1006</td>\n      <td>Ron</td>\n      <td>Swanson</td>\n      <td>304-762-2467</td>\n      <td>768 City Parkway</td>\n      <td>Y</td>\n      <td>Y</td>\n    </tr>\n    <tr>\n      <th>6</th>\n      <td>1007</td>\n      <td>Jeff</td>\n      <td>Winger</td>\n      <td></td>\n      <td>1209 South Street</td>\n      <td>N</td>\n      <td>N</td>\n    </tr>\n    <tr>\n      <th>7</th>\n      <td>1008</td>\n      <td>Sherlock</td>\n      <td>Holmes</td>\n      <td>876-678-3469</td>\n      <td>98 Clue Drive</td>\n      <td>N</td>\n      <td>N</td>\n    </tr>\n    <tr>\n      <th>8</th>\n      <td>1009</td>\n      <td>Gandalf</td>\n      <td></td>\n      <td></td>\n      <td>123 Middle Earth</td>\n      <td>Y</td>\n      <td></td>\n    </tr>\n    <tr>\n      <th>9</th>\n      <td>1010</td>\n      <td>Peter</td>\n      <td>Parker</td>\n      <td>123-545-5421</td>\n      <td>25th Main Street, New York</td>\n      <td>Y</td>\n      <td>N</td>\n    </tr>\n    <tr>\n      <th>10</th>\n      <td>1011</td>\n      <td>Samwise</td>\n      <td>Gamgee</td>\n      <td></td>\n      <td>612 Shire Lane, Shire</td>\n      <td>Y</td>\n      <td>N</td>\n    </tr>\n    <tr>\n      <th>11</th>\n      <td>1012</td>\n      <td>Harry</td>\n      <td>Potter</td>\n      <td></td>\n      <td>2394 Hogwarts Avenue</td>\n      <td>Y</td>\n      <td></td>\n    </tr>\n    <tr>\n      <th>12</th>\n      <td>1013</td>\n      <td>Don</td>\n      <td>Draper</td>\n      <td>123-543-2345</td>\n      <td>2039 Main Street</td>\n      <td>Y</td>\n      <td>N</td>\n    </tr>\n    <tr>\n      <th>13</th>\n      <td>1014</td>\n      <td>Leslie</td>\n      <td>Knope</td>\n      <td>876-678-3469</td>\n      <td>343 City Parkway</td>\n      <td>Y</td>\n      <td>N</td>\n    </tr>\n    <tr>\n      <th>14</th>\n      <td>1015</td>\n      <td>Toby</td>\n      <td>Flenderson</td>\n      <td>304-762-2467</td>\n      <td>214 HR Avenue</td>\n      <td>N</td>\n      <td>N</td>\n    </tr>\n    <tr>\n      <th>15</th>\n      <td>1016</td>\n      <td>Ron</td>\n      <td>Weasley</td>\n      <td>123-545-5421</td>\n      <td>2395 Hogwarts Avenue</td>\n      <td>N</td>\n      <td>N</td>\n    </tr>\n    <tr>\n      <th>16</th>\n      <td>1017</td>\n      <td>Michael</td>\n      <td>Scott</td>\n      <td>123-643-9775</td>\n      <td>121 Paper Avenue, Pennsylvania</td>\n      <td>Y</td>\n      <td>N</td>\n    </tr>\n    <tr>\n      <th>17</th>\n      <td>1018</td>\n      <td>Clark</td>\n      <td>Kent</td>\n      <td></td>\n      <td>3498 Super Lane</td>\n      <td>Y</td>\n      <td></td>\n    </tr>\n    <tr>\n      <th>18</th>\n      <td>1019</td>\n      <td>Creed</td>\n      <td>Braton</td>\n      <td></td>\n      <td>3498 Super Lane</td>\n      <td>Y</td>\n      <td>Y</td>\n    </tr>\n    <tr>\n      <th>19</th>\n      <td>1020</td>\n      <td>Anakin</td>\n      <td>Skywalker</td>\n      <td>876-678-3469</td>\n      <td>910 Tatooine Road, Tatooine</td>\n      <td>Y</td>\n      <td>N</td>\n    </tr>\n  </tbody>\n</table>\n</div>"
     },
     "execution_count": 9,
     "metadata": {},
     "output_type": "execute_result"
    }
   ],
   "source": [
    "data = data.replace(\"N/a\")\n",
    "data = data.fillna('')\n",
    "data"
   ],
   "metadata": {
    "collapsed": false,
    "ExecuteTime": {
     "end_time": "2024-03-24T11:53:59.265813Z",
     "start_time": "2024-03-24T11:53:59.216590Z"
    }
   },
   "id": "9876855671f63e97"
  },
  {
   "cell_type": "code",
   "execution_count": 10,
   "outputs": [
    {
     "data": {
      "text/plain": "    CustomerID First_Name   Last_Name  Phone_Number  \\\n0         1001      Frodo     Baggins  123-545-5421   \n4         1005        Jon        Snow  876-678-3469   \n7         1008   Sherlock      Holmes  876-678-3469   \n9         1010      Peter      Parker  123-545-5421   \n12        1013        Don      Draper  123-543-2345   \n13        1014     Leslie       Knope  876-678-3469   \n14        1015       Toby  Flenderson  304-762-2467   \n15        1016        Ron     Weasley  123-545-5421   \n16        1017   Michael        Scott  123-643-9775   \n19        1020     Anakin   Skywalker  876-678-3469   \n\n                           Address Paying Customer Do_Not_Contact  \n0            123 Shire Lane, Shire               Y              N  \n4                 123 Dragons Road               Y              N  \n7                    98 Clue Drive               N              N  \n9       25th Main Street, New York               Y              N  \n12                2039 Main Street               Y              N  \n13                343 City Parkway               Y              N  \n14                   214 HR Avenue               N              N  \n15            2395 Hogwarts Avenue               N              N  \n16  121 Paper Avenue, Pennsylvania               Y              N  \n19     910 Tatooine Road, Tatooine               Y              N  ",
      "text/html": "<div>\n<style scoped>\n    .dataframe tbody tr th:only-of-type {\n        vertical-align: middle;\n    }\n\n    .dataframe tbody tr th {\n        vertical-align: top;\n    }\n\n    .dataframe thead th {\n        text-align: right;\n    }\n</style>\n<table border=\"1\" class=\"dataframe\">\n  <thead>\n    <tr style=\"text-align: right;\">\n      <th></th>\n      <th>CustomerID</th>\n      <th>First_Name</th>\n      <th>Last_Name</th>\n      <th>Phone_Number</th>\n      <th>Address</th>\n      <th>Paying Customer</th>\n      <th>Do_Not_Contact</th>\n    </tr>\n  </thead>\n  <tbody>\n    <tr>\n      <th>0</th>\n      <td>1001</td>\n      <td>Frodo</td>\n      <td>Baggins</td>\n      <td>123-545-5421</td>\n      <td>123 Shire Lane, Shire</td>\n      <td>Y</td>\n      <td>N</td>\n    </tr>\n    <tr>\n      <th>4</th>\n      <td>1005</td>\n      <td>Jon</td>\n      <td>Snow</td>\n      <td>876-678-3469</td>\n      <td>123 Dragons Road</td>\n      <td>Y</td>\n      <td>N</td>\n    </tr>\n    <tr>\n      <th>7</th>\n      <td>1008</td>\n      <td>Sherlock</td>\n      <td>Holmes</td>\n      <td>876-678-3469</td>\n      <td>98 Clue Drive</td>\n      <td>N</td>\n      <td>N</td>\n    </tr>\n    <tr>\n      <th>9</th>\n      <td>1010</td>\n      <td>Peter</td>\n      <td>Parker</td>\n      <td>123-545-5421</td>\n      <td>25th Main Street, New York</td>\n      <td>Y</td>\n      <td>N</td>\n    </tr>\n    <tr>\n      <th>12</th>\n      <td>1013</td>\n      <td>Don</td>\n      <td>Draper</td>\n      <td>123-543-2345</td>\n      <td>2039 Main Street</td>\n      <td>Y</td>\n      <td>N</td>\n    </tr>\n    <tr>\n      <th>13</th>\n      <td>1014</td>\n      <td>Leslie</td>\n      <td>Knope</td>\n      <td>876-678-3469</td>\n      <td>343 City Parkway</td>\n      <td>Y</td>\n      <td>N</td>\n    </tr>\n    <tr>\n      <th>14</th>\n      <td>1015</td>\n      <td>Toby</td>\n      <td>Flenderson</td>\n      <td>304-762-2467</td>\n      <td>214 HR Avenue</td>\n      <td>N</td>\n      <td>N</td>\n    </tr>\n    <tr>\n      <th>15</th>\n      <td>1016</td>\n      <td>Ron</td>\n      <td>Weasley</td>\n      <td>123-545-5421</td>\n      <td>2395 Hogwarts Avenue</td>\n      <td>N</td>\n      <td>N</td>\n    </tr>\n    <tr>\n      <th>16</th>\n      <td>1017</td>\n      <td>Michael</td>\n      <td>Scott</td>\n      <td>123-643-9775</td>\n      <td>121 Paper Avenue, Pennsylvania</td>\n      <td>Y</td>\n      <td>N</td>\n    </tr>\n    <tr>\n      <th>19</th>\n      <td>1020</td>\n      <td>Anakin</td>\n      <td>Skywalker</td>\n      <td>876-678-3469</td>\n      <td>910 Tatooine Road, Tatooine</td>\n      <td>Y</td>\n      <td>N</td>\n    </tr>\n  </tbody>\n</table>\n</div>"
     },
     "execution_count": 10,
     "metadata": {},
     "output_type": "execute_result"
    }
   ],
   "source": [
    "for i in range(len(data)):\n",
    "    if data[\"Phone_Number\"][i] == '' or data[\"Do_Not_Contact\"][i] == 'Y':\n",
    "        data = data.drop(i)\n",
    "data"
   ],
   "metadata": {
    "collapsed": false,
    "ExecuteTime": {
     "end_time": "2024-03-24T11:53:59.366692Z",
     "start_time": "2024-03-24T11:53:59.344697Z"
    }
   },
   "id": "6f02861755eae8cd"
  },
  {
   "cell_type": "code",
   "execution_count": 11,
   "outputs": [
    {
     "data": {
      "text/plain": "   CustomerID First_Name   Last_Name  Phone_Number  \\\n0        1001      Frodo     Baggins  123-545-5421   \n1        1005        Jon        Snow  876-678-3469   \n2        1008   Sherlock      Holmes  876-678-3469   \n3        1010      Peter      Parker  123-545-5421   \n4        1013        Don      Draper  123-543-2345   \n5        1014     Leslie       Knope  876-678-3469   \n6        1015       Toby  Flenderson  304-762-2467   \n7        1016        Ron     Weasley  123-545-5421   \n8        1017   Michael        Scott  123-643-9775   \n9        1020     Anakin   Skywalker  876-678-3469   \n\n                          Address Paying Customer Do_Not_Contact  \n0           123 Shire Lane, Shire               Y              N  \n1                123 Dragons Road               Y              N  \n2                   98 Clue Drive               N              N  \n3      25th Main Street, New York               Y              N  \n4                2039 Main Street               Y              N  \n5                343 City Parkway               Y              N  \n6                   214 HR Avenue               N              N  \n7            2395 Hogwarts Avenue               N              N  \n8  121 Paper Avenue, Pennsylvania               Y              N  \n9     910 Tatooine Road, Tatooine               Y              N  ",
      "text/html": "<div>\n<style scoped>\n    .dataframe tbody tr th:only-of-type {\n        vertical-align: middle;\n    }\n\n    .dataframe tbody tr th {\n        vertical-align: top;\n    }\n\n    .dataframe thead th {\n        text-align: right;\n    }\n</style>\n<table border=\"1\" class=\"dataframe\">\n  <thead>\n    <tr style=\"text-align: right;\">\n      <th></th>\n      <th>CustomerID</th>\n      <th>First_Name</th>\n      <th>Last_Name</th>\n      <th>Phone_Number</th>\n      <th>Address</th>\n      <th>Paying Customer</th>\n      <th>Do_Not_Contact</th>\n    </tr>\n  </thead>\n  <tbody>\n    <tr>\n      <th>0</th>\n      <td>1001</td>\n      <td>Frodo</td>\n      <td>Baggins</td>\n      <td>123-545-5421</td>\n      <td>123 Shire Lane, Shire</td>\n      <td>Y</td>\n      <td>N</td>\n    </tr>\n    <tr>\n      <th>1</th>\n      <td>1005</td>\n      <td>Jon</td>\n      <td>Snow</td>\n      <td>876-678-3469</td>\n      <td>123 Dragons Road</td>\n      <td>Y</td>\n      <td>N</td>\n    </tr>\n    <tr>\n      <th>2</th>\n      <td>1008</td>\n      <td>Sherlock</td>\n      <td>Holmes</td>\n      <td>876-678-3469</td>\n      <td>98 Clue Drive</td>\n      <td>N</td>\n      <td>N</td>\n    </tr>\n    <tr>\n      <th>3</th>\n      <td>1010</td>\n      <td>Peter</td>\n      <td>Parker</td>\n      <td>123-545-5421</td>\n      <td>25th Main Street, New York</td>\n      <td>Y</td>\n      <td>N</td>\n    </tr>\n    <tr>\n      <th>4</th>\n      <td>1013</td>\n      <td>Don</td>\n      <td>Draper</td>\n      <td>123-543-2345</td>\n      <td>2039 Main Street</td>\n      <td>Y</td>\n      <td>N</td>\n    </tr>\n    <tr>\n      <th>5</th>\n      <td>1014</td>\n      <td>Leslie</td>\n      <td>Knope</td>\n      <td>876-678-3469</td>\n      <td>343 City Parkway</td>\n      <td>Y</td>\n      <td>N</td>\n    </tr>\n    <tr>\n      <th>6</th>\n      <td>1015</td>\n      <td>Toby</td>\n      <td>Flenderson</td>\n      <td>304-762-2467</td>\n      <td>214 HR Avenue</td>\n      <td>N</td>\n      <td>N</td>\n    </tr>\n    <tr>\n      <th>7</th>\n      <td>1016</td>\n      <td>Ron</td>\n      <td>Weasley</td>\n      <td>123-545-5421</td>\n      <td>2395 Hogwarts Avenue</td>\n      <td>N</td>\n      <td>N</td>\n    </tr>\n    <tr>\n      <th>8</th>\n      <td>1017</td>\n      <td>Michael</td>\n      <td>Scott</td>\n      <td>123-643-9775</td>\n      <td>121 Paper Avenue, Pennsylvania</td>\n      <td>Y</td>\n      <td>N</td>\n    </tr>\n    <tr>\n      <th>9</th>\n      <td>1020</td>\n      <td>Anakin</td>\n      <td>Skywalker</td>\n      <td>876-678-3469</td>\n      <td>910 Tatooine Road, Tatooine</td>\n      <td>Y</td>\n      <td>N</td>\n    </tr>\n  </tbody>\n</table>\n</div>"
     },
     "execution_count": 11,
     "metadata": {},
     "output_type": "execute_result"
    }
   ],
   "source": [
    "data = data.reset_index(drop=True)\n",
    "data"
   ],
   "metadata": {
    "collapsed": false,
    "ExecuteTime": {
     "end_time": "2024-03-24T11:53:59.530765Z",
     "start_time": "2024-03-24T11:53:59.517757Z"
    }
   },
   "id": "fc14dc5f0d045e0f"
  },
  {
   "cell_type": "code",
   "execution_count": 12,
   "outputs": [
    {
     "data": {
      "text/plain": "   CustomerID First_Name   Last_Name  Phone_Number  \\\n0        1001      Frodo     Baggins  123-545-5421   \n1        1005        Jon        Snow  876-678-3469   \n2        1008   Sherlock      Holmes  876-678-3469   \n3        1010      Peter      Parker  123-545-5421   \n4        1013        Don      Draper  123-543-2345   \n5        1014     Leslie       Knope  876-678-3469   \n6        1015       Toby  Flenderson  304-762-2467   \n7        1016        Ron     Weasley  123-545-5421   \n8        1017   Michael        Scott  123-643-9775   \n9        1020     Anakin   Skywalker  876-678-3469   \n\n                          Address Paying Customer Do_Not_Contact  \\\n0           123 Shire Lane, Shire               Y              N   \n1                123 Dragons Road               Y              N   \n2                   98 Clue Drive               N              N   \n3      25th Main Street, New York               Y              N   \n4                2039 Main Street               Y              N   \n5                343 City Parkway               Y              N   \n6                   214 HR Avenue               N              N   \n7            2395 Hogwarts Avenue               N              N   \n8  121 Paper Avenue, Pennsylvania               Y              N   \n9     910 Tatooine Road, Tatooine               Y              N   \n\n         Street Address          State  \n0        123 Shire Lane          Shire  \n1      123 Dragons Road           None  \n2         98 Clue Drive           None  \n3      25th Main Street       New York  \n4      2039 Main Street           None  \n5      343 City Parkway           None  \n6         214 HR Avenue           None  \n7  2395 Hogwarts Avenue           None  \n8      121 Paper Avenue   Pennsylvania  \n9     910 Tatooine Road       Tatooine  ",
      "text/html": "<div>\n<style scoped>\n    .dataframe tbody tr th:only-of-type {\n        vertical-align: middle;\n    }\n\n    .dataframe tbody tr th {\n        vertical-align: top;\n    }\n\n    .dataframe thead th {\n        text-align: right;\n    }\n</style>\n<table border=\"1\" class=\"dataframe\">\n  <thead>\n    <tr style=\"text-align: right;\">\n      <th></th>\n      <th>CustomerID</th>\n      <th>First_Name</th>\n      <th>Last_Name</th>\n      <th>Phone_Number</th>\n      <th>Address</th>\n      <th>Paying Customer</th>\n      <th>Do_Not_Contact</th>\n      <th>Street Address</th>\n      <th>State</th>\n    </tr>\n  </thead>\n  <tbody>\n    <tr>\n      <th>0</th>\n      <td>1001</td>\n      <td>Frodo</td>\n      <td>Baggins</td>\n      <td>123-545-5421</td>\n      <td>123 Shire Lane, Shire</td>\n      <td>Y</td>\n      <td>N</td>\n      <td>123 Shire Lane</td>\n      <td>Shire</td>\n    </tr>\n    <tr>\n      <th>1</th>\n      <td>1005</td>\n      <td>Jon</td>\n      <td>Snow</td>\n      <td>876-678-3469</td>\n      <td>123 Dragons Road</td>\n      <td>Y</td>\n      <td>N</td>\n      <td>123 Dragons Road</td>\n      <td>None</td>\n    </tr>\n    <tr>\n      <th>2</th>\n      <td>1008</td>\n      <td>Sherlock</td>\n      <td>Holmes</td>\n      <td>876-678-3469</td>\n      <td>98 Clue Drive</td>\n      <td>N</td>\n      <td>N</td>\n      <td>98 Clue Drive</td>\n      <td>None</td>\n    </tr>\n    <tr>\n      <th>3</th>\n      <td>1010</td>\n      <td>Peter</td>\n      <td>Parker</td>\n      <td>123-545-5421</td>\n      <td>25th Main Street, New York</td>\n      <td>Y</td>\n      <td>N</td>\n      <td>25th Main Street</td>\n      <td>New York</td>\n    </tr>\n    <tr>\n      <th>4</th>\n      <td>1013</td>\n      <td>Don</td>\n      <td>Draper</td>\n      <td>123-543-2345</td>\n      <td>2039 Main Street</td>\n      <td>Y</td>\n      <td>N</td>\n      <td>2039 Main Street</td>\n      <td>None</td>\n    </tr>\n    <tr>\n      <th>5</th>\n      <td>1014</td>\n      <td>Leslie</td>\n      <td>Knope</td>\n      <td>876-678-3469</td>\n      <td>343 City Parkway</td>\n      <td>Y</td>\n      <td>N</td>\n      <td>343 City Parkway</td>\n      <td>None</td>\n    </tr>\n    <tr>\n      <th>6</th>\n      <td>1015</td>\n      <td>Toby</td>\n      <td>Flenderson</td>\n      <td>304-762-2467</td>\n      <td>214 HR Avenue</td>\n      <td>N</td>\n      <td>N</td>\n      <td>214 HR Avenue</td>\n      <td>None</td>\n    </tr>\n    <tr>\n      <th>7</th>\n      <td>1016</td>\n      <td>Ron</td>\n      <td>Weasley</td>\n      <td>123-545-5421</td>\n      <td>2395 Hogwarts Avenue</td>\n      <td>N</td>\n      <td>N</td>\n      <td>2395 Hogwarts Avenue</td>\n      <td>None</td>\n    </tr>\n    <tr>\n      <th>8</th>\n      <td>1017</td>\n      <td>Michael</td>\n      <td>Scott</td>\n      <td>123-643-9775</td>\n      <td>121 Paper Avenue, Pennsylvania</td>\n      <td>Y</td>\n      <td>N</td>\n      <td>121 Paper Avenue</td>\n      <td>Pennsylvania</td>\n    </tr>\n    <tr>\n      <th>9</th>\n      <td>1020</td>\n      <td>Anakin</td>\n      <td>Skywalker</td>\n      <td>876-678-3469</td>\n      <td>910 Tatooine Road, Tatooine</td>\n      <td>Y</td>\n      <td>N</td>\n      <td>910 Tatooine Road</td>\n      <td>Tatooine</td>\n    </tr>\n  </tbody>\n</table>\n</div>"
     },
     "execution_count": 12,
     "metadata": {},
     "output_type": "execute_result"
    }
   ],
   "source": [
    "data[[\"Street Address\", \"State\"]] = data[\"Address\"].str.split(',', n=1,expand = True)\n",
    "data"
   ],
   "metadata": {
    "collapsed": false,
    "ExecuteTime": {
     "end_time": "2024-03-24T11:53:59.681990Z",
     "start_time": "2024-03-24T11:53:59.676324Z"
    }
   },
   "id": "9e009d7acbbf94a0"
  }
 ],
 "metadata": {
  "kernelspec": {
   "display_name": "Python 3",
   "language": "python",
   "name": "python3"
  },
  "language_info": {
   "codemirror_mode": {
    "name": "ipython",
    "version": 2
   },
   "file_extension": ".py",
   "mimetype": "text/x-python",
   "name": "python",
   "nbconvert_exporter": "python",
   "pygments_lexer": "ipython2",
   "version": "2.7.6"
  }
 },
 "nbformat": 4,
 "nbformat_minor": 5
}
